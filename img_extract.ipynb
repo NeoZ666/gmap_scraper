{
 "cells": [
  {
   "cell_type": "code",
   "execution_count": 18,
   "metadata": {},
   "outputs": [],
   "source": [
    "from selenium import webdriver\n",
    "import requests\n",
    "import ast\n",
    "from parsel import Selector"
   ]
  },
  {
   "cell_type": "code",
   "execution_count": 25,
   "metadata": {},
   "outputs": [
    {
     "name": "stderr",
     "output_type": "stream",
     "text": [
      "C:\\Users\\HJ_Home\\AppData\\Local\\Temp\\ipykernel_23264\\1899725337.py:4: DeprecationWarning: executable_path has been deprecated, please pass in a Service object\n",
      "  driver = webdriver.Chrome(chromedriver_path)\n"
     ]
    },
    {
     "name": "stdout",
     "output_type": "stream",
     "text": [
      "[]\n"
     ]
    }
   ],
   "source": [
    "def gogli_maps(address):\n",
    "    chromedriver_path = 'E:/Selenium ChromeDriver/chromedriver'\n",
    "    global driver\n",
    "    driver = webdriver.Chrome(chromedriver_path)\n",
    "    address.replace(',', '')\n",
    "    address.replace(' ', '+')\n",
    "    address.lower\n",
    "    uri = 'https://www.google.com/maps/search/?api=1&query='\n",
    "    url = uri + address\n",
    "    driver.get(url)\n",
    "    return driver\n",
    "\n",
    "address = \"the Eiffel tower, France\"\n",
    "gogli_maps(address)\n",
    "\n",
    "def parse_maps():\n",
    "    page_content = driver.page_source\n",
    "    response = Selector(page_content)\n",
    "    results = []\n",
    "    for el in response.xpath('//div[contains(@aria-label, \"Results for\")]/div/div[./button]'):\n",
    "        results.append({\n",
    "        'link': el.xpath('./button/aria-label/img/@src').extract_first(''),\n",
    "    })\n",
    "    print(results)\n",
    "\n",
    "parse_maps()"
   ]
  }
 ],
 "metadata": {
  "kernelspec": {
   "display_name": "Python 3",
   "language": "python",
   "name": "python3"
  },
  "language_info": {
   "codemirror_mode": {
    "name": "ipython",
    "version": 3
   },
   "file_extension": ".py",
   "mimetype": "text/x-python",
   "name": "python",
   "nbconvert_exporter": "python",
   "pygments_lexer": "ipython3",
   "version": "3.10.1"
  },
  "orig_nbformat": 4,
  "vscode": {
   "interpreter": {
    "hash": "1a0e9f04eff34b4cb526173a937a208a889197750a3639f9f09b79fe9720f734"
   }
  }
 },
 "nbformat": 4,
 "nbformat_minor": 2
}
