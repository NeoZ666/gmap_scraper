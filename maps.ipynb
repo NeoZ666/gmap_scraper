{
 "cells": [
  {
   "cell_type": "code",
   "execution_count": 11,
   "metadata": {},
   "outputs": [],
   "source": [
    "from apify_client import ApifyClient\n",
    "from dotenv import load_dotenv\n",
    "from os.path import os"
   ]
  },
  {
   "cell_type": "code",
   "execution_count": 13,
   "metadata": {},
   "outputs": [
    {
     "ename": "ApifyApiError",
     "evalue": "Input is not valid: Field input.countryCode must be equal to one of the allowed values: \"\", \"us\", \"af\", \"al\", \"dz\", \"as\", \"ad\", \"ao\", \"ai\", \"aq\", \"ag\", \"ar\", \"am\", \"aw\", \"au\", \"at\", \"az\", \"bs\", \"bh\", \"bd\", \"bb\", \"by\", \"be\", \"bz\", \"bj\", \"bm\", \"bt\", \"bo\", \"ba\", \"bw\", \"bv\", \"br\", \"io\", \"bn\", \"bg\", \"bf\", \"bi\", \"kh\", \"cm\", \"ca\", \"cv\", \"ky\", \"cf\", \"td\", \"cl\", \"cn\", \"cx\", \"cc\", \"co\", \"km\", \"cg\", \"cd\", \"ck\", \"cr\", \"ci\", \"hr\", \"cu\", \"cy\", \"cz\", \"dk\", \"dj\", \"dm\", \"do\", \"ec\", \"eg\", \"sv\", \"gq\", \"er\", \"ee\", \"et\", \"fk\", \"fo\", \"fj\", \"fi\", \"fr\", \"gf\", \"pf\", \"tf\", \"ga\", \"gm\", \"ge\", \"de\", \"gh\", \"gi\", \"gr\", \"gl\", \"gd\", \"gp\", \"gu\", \"gt\", \"gn\", \"gw\", \"gy\", \"ht\", \"hm\", \"va\", \"hn\", \"hk\", \"hu\", \"is\", \"in\", \"id\", \"ir\", \"iq\", \"ie\", \"il\", \"it\", \"jm\", \"jp\", \"jo\", \"kz\", \"ke\", \"ki\", \"kp\", \"kr\", \"kw\", \"kg\", \"la\", \"lv\", \"lb\", \"ls\", \"lr\", \"ly\", \"li\", \"lt\", \"lu\", \"mo\", \"mk\", \"mg\", \"mw\", \"my\", \"mv\", \"ml\", \"mt\", \"mh\", \"mq\", \"mr\", \"mu\", \"yt\", \"mx\", \"fm\", \"md\", \"mc\", \"mn\", \"me\", \"ms\", \"ma\", \"mz\", \"mm\", \"na\", \"nr\", \"np\", \"nl\", \"an\", \"nc\", \"nz\", \"ni\", \"ne\", \"ng\", \"nu\", \"nf\", \"mp\", \"no\", \"om\", \"pk\", \"pw\", \"ps\", \"pa\", \"pg\", \"py\", \"pe\", \"ph\", \"pn\", \"pl\", \"pt\", \"pr\", \"qa\", \"re\", \"ro\", \"ru\", \"rw\", \"sh\", \"kn\", \"lc\", \"pm\", \"vc\", \"ws\", \"sm\", \"st\", \"sa\", \"sn\", \"rs\", \"sc\", \"sl\", \"sg\", \"sk\", \"si\", \"sb\", \"so\", \"za\", \"gs\", \"es\", \"lk\", \"sd\", \"sr\", \"sj\", \"sz\", \"se\", \"ch\", \"sy\", \"tw\", \"tj\", \"tz\", \"th\", \"tl\", \"tg\", \"tk\", \"to\", \"tt\", \"tn\", \"tr\", \"tm\", \"tc\", \"tv\", \"ug\", \"ua\", \"ae\", \"gb\", \"um\", \"uy\", \"uz\", \"vu\", \"ve\", \"vn\", \"vg\", \"vi\", \"wf\", \"eh\", \"ye\", \"zm\", \"zw\"",
     "output_type": "error",
     "traceback": [
      "\u001b[1;31m---------------------------------------------------------------------------\u001b[0m",
      "\u001b[1;31mApifyApiError\u001b[0m                             Traceback (most recent call last)",
      "Cell \u001b[1;32mIn[13], line 18\u001b[0m\n\u001b[0;32m      5\u001b[0m address \u001b[39m=\u001b[39m \u001b[39m\"\u001b[39m\u001b[39mBAHAMAS FINANCIAL CENTRE, P.O. BOX N-3023, NASSAU, BAHAMAS\u001b[39m\u001b[39m\"\u001b[39m\n\u001b[0;32m      7\u001b[0m run_input \u001b[39m=\u001b[39m {\n\u001b[0;32m      8\u001b[0m     \u001b[39m\"\u001b[39m\u001b[39msearchStringsArray\u001b[39m\u001b[39m\"\u001b[39m: [address],\n\u001b[0;32m      9\u001b[0m     \u001b[39m\"\u001b[39m\u001b[39mcountryCode\u001b[39m\u001b[39m\"\u001b[39m: country_code\u001b[39m.\u001b[39mlower,\n\u001b[1;32m   (...)\u001b[0m\n\u001b[0;32m     15\u001b[0m     \u001b[39m\"\u001b[39m\u001b[39mallPlacesNoSearchAction\u001b[39m\u001b[39m\"\u001b[39m: \u001b[39m\"\u001b[39m\u001b[39m\"\u001b[39m,\n\u001b[0;32m     16\u001b[0m }\n\u001b[1;32m---> 18\u001b[0m run \u001b[39m=\u001b[39m client\u001b[39m.\u001b[39;49mactor(\u001b[39m\"\u001b[39;49m\u001b[39mcompass/crawler-google-places\u001b[39;49m\u001b[39m\"\u001b[39;49m)\u001b[39m.\u001b[39;49mcall(run_input\u001b[39m=\u001b[39;49mrun_input)\n\u001b[0;32m     21\u001b[0m \u001b[39m# Run the actor and wait for it to finish\u001b[39;00m\n\u001b[0;32m     22\u001b[0m run \u001b[39m=\u001b[39m client\u001b[39m.\u001b[39mactor(\u001b[39m\"\u001b[39m\u001b[39mcompass/crawler-google-places\u001b[39m\u001b[39m\"\u001b[39m)\u001b[39m.\u001b[39mcall(run_input\u001b[39m=\u001b[39mrun_input)\n",
      "File \u001b[1;32mc:\\Users\\HJ_Home\\AppData\\Local\\Programs\\Python\\Python310\\lib\\site-packages\\apify_client\\clients\\resource_clients\\actor.py:226\u001b[0m, in \u001b[0;36mActorClient.call\u001b[1;34m(self, run_input, content_type, build, memory_mbytes, timeout_secs, webhooks, wait_secs)\u001b[0m\n\u001b[0;32m    192\u001b[0m \u001b[39mdef\u001b[39;00m \u001b[39mcall\u001b[39m(\n\u001b[0;32m    193\u001b[0m     \u001b[39mself\u001b[39m,\n\u001b[0;32m    194\u001b[0m     \u001b[39m*\u001b[39m,\n\u001b[1;32m   (...)\u001b[0m\n\u001b[0;32m    201\u001b[0m     wait_secs: Optional[\u001b[39mint\u001b[39m] \u001b[39m=\u001b[39m \u001b[39mNone\u001b[39;00m,\n\u001b[0;32m    202\u001b[0m ) \u001b[39m-\u001b[39m\u001b[39m>\u001b[39m Optional[Dict]:\n\u001b[0;32m    203\u001b[0m \u001b[39m    \u001b[39m\u001b[39m\"\"\"Start the actor and wait for it to finish before returning the Run object.\u001b[39;00m\n\u001b[0;32m    204\u001b[0m \n\u001b[0;32m    205\u001b[0m \u001b[39m    It waits indefinitely, unless the wait_secs argument is provided.\u001b[39;00m\n\u001b[1;32m   (...)\u001b[0m\n\u001b[0;32m    224\u001b[0m \u001b[39m        dict: The run object\u001b[39;00m\n\u001b[0;32m    225\u001b[0m \u001b[39m    \"\"\"\u001b[39;00m\n\u001b[1;32m--> 226\u001b[0m     started_run \u001b[39m=\u001b[39m \u001b[39mself\u001b[39;49m\u001b[39m.\u001b[39;49mstart(\n\u001b[0;32m    227\u001b[0m         run_input\u001b[39m=\u001b[39;49mrun_input,\n\u001b[0;32m    228\u001b[0m         content_type\u001b[39m=\u001b[39;49mcontent_type,\n\u001b[0;32m    229\u001b[0m         build\u001b[39m=\u001b[39;49mbuild,\n\u001b[0;32m    230\u001b[0m         memory_mbytes\u001b[39m=\u001b[39;49mmemory_mbytes,\n\u001b[0;32m    231\u001b[0m         timeout_secs\u001b[39m=\u001b[39;49mtimeout_secs,\n\u001b[0;32m    232\u001b[0m         webhooks\u001b[39m=\u001b[39;49mwebhooks,\n\u001b[0;32m    233\u001b[0m     )\n\u001b[0;32m    235\u001b[0m     \u001b[39mreturn\u001b[39;00m \u001b[39mself\u001b[39m\u001b[39m.\u001b[39mroot_client\u001b[39m.\u001b[39mrun(started_run[\u001b[39m'\u001b[39m\u001b[39mid\u001b[39m\u001b[39m'\u001b[39m])\u001b[39m.\u001b[39mwait_for_finish(wait_secs\u001b[39m=\u001b[39mwait_secs)\n",
      "File \u001b[1;32mc:\\Users\\HJ_Home\\AppData\\Local\\Programs\\Python\\Python310\\lib\\site-packages\\apify_client\\clients\\resource_clients\\actor.py:182\u001b[0m, in \u001b[0;36mActorClient.start\u001b[1;34m(self, run_input, content_type, build, memory_mbytes, timeout_secs, wait_for_finish, webhooks)\u001b[0m\n\u001b[0;32m    172\u001b[0m run_input, content_type \u001b[39m=\u001b[39m _encode_key_value_store_record_value(run_input, content_type)\n\u001b[0;32m    174\u001b[0m request_params \u001b[39m=\u001b[39m \u001b[39mself\u001b[39m\u001b[39m.\u001b[39m_params(\n\u001b[0;32m    175\u001b[0m     build\u001b[39m=\u001b[39mbuild,\n\u001b[0;32m    176\u001b[0m     memory\u001b[39m=\u001b[39mmemory_mbytes,\n\u001b[1;32m   (...)\u001b[0m\n\u001b[0;32m    179\u001b[0m     webhooks\u001b[39m=\u001b[39m_encode_webhook_list_to_base64(webhooks) \u001b[39mif\u001b[39;00m webhooks \u001b[39mis\u001b[39;00m \u001b[39mnot\u001b[39;00m \u001b[39mNone\u001b[39;00m \u001b[39melse\u001b[39;00m \u001b[39mNone\u001b[39;00m,\n\u001b[0;32m    180\u001b[0m )\n\u001b[1;32m--> 182\u001b[0m response \u001b[39m=\u001b[39m \u001b[39mself\u001b[39;49m\u001b[39m.\u001b[39;49mhttp_client\u001b[39m.\u001b[39;49mcall(\n\u001b[0;32m    183\u001b[0m     url\u001b[39m=\u001b[39;49m\u001b[39mself\u001b[39;49m\u001b[39m.\u001b[39;49m_url(\u001b[39m'\u001b[39;49m\u001b[39mruns\u001b[39;49m\u001b[39m'\u001b[39;49m),\n\u001b[0;32m    184\u001b[0m     method\u001b[39m=\u001b[39;49m\u001b[39m'\u001b[39;49m\u001b[39mPOST\u001b[39;49m\u001b[39m'\u001b[39;49m,\n\u001b[0;32m    185\u001b[0m     headers\u001b[39m=\u001b[39;49m{\u001b[39m'\u001b[39;49m\u001b[39mcontent-type\u001b[39;49m\u001b[39m'\u001b[39;49m: content_type},\n\u001b[0;32m    186\u001b[0m     data\u001b[39m=\u001b[39;49mrun_input,\n\u001b[0;32m    187\u001b[0m     params\u001b[39m=\u001b[39;49mrequest_params,\n\u001b[0;32m    188\u001b[0m )\n\u001b[0;32m    190\u001b[0m \u001b[39mreturn\u001b[39;00m _parse_date_fields(_pluck_data(response\u001b[39m.\u001b[39mjson()))\n",
      "File \u001b[1;32mc:\\Users\\HJ_Home\\AppData\\Local\\Programs\\Python\\Python310\\lib\\site-packages\\apify_client\\_http_client.py:96\u001b[0m, in \u001b[0;36m_HTTPClient.call\u001b[1;34m(self, method, url, headers, params, data, json, stream, parse_response)\u001b[0m\n\u001b[0;32m     93\u001b[0m     \u001b[39melse\u001b[39;00m:\n\u001b[0;32m     94\u001b[0m         bail(api_error)\n\u001b[1;32m---> 96\u001b[0m \u001b[39mreturn\u001b[39;00m _retry_with_exp_backoff(\n\u001b[0;32m     97\u001b[0m     _make_request,\n\u001b[0;32m     98\u001b[0m     max_retries\u001b[39m=\u001b[39;49m\u001b[39mself\u001b[39;49m\u001b[39m.\u001b[39;49mmax_retries,\n\u001b[0;32m     99\u001b[0m     backoff_base_millis\u001b[39m=\u001b[39;49m\u001b[39mself\u001b[39;49m\u001b[39m.\u001b[39;49mmin_delay_between_retries_millis,\n\u001b[0;32m    100\u001b[0m     backoff_factor\u001b[39m=\u001b[39;49mDEFAULT_BACKOFF_EXPONENTIAL_FACTOR,\n\u001b[0;32m    101\u001b[0m     random_factor\u001b[39m=\u001b[39;49mDEFAULT_BACKOFF_RANDOM_FACTOR,\n\u001b[0;32m    102\u001b[0m )\n",
      "File \u001b[1;32mc:\\Users\\HJ_Home\\AppData\\Local\\Programs\\Python\\Python310\\lib\\site-packages\\apify_client\\_utils.py:116\u001b[0m, in \u001b[0;36m_retry_with_exp_backoff\u001b[1;34m(func, max_retries, backoff_base_millis, backoff_factor, random_factor)\u001b[0m\n\u001b[0;32m    114\u001b[0m \u001b[39mexcept\u001b[39;00m \u001b[39mException\u001b[39;00m \u001b[39mas\u001b[39;00m e:\n\u001b[0;32m    115\u001b[0m     \u001b[39mif\u001b[39;00m \u001b[39mnot\u001b[39;00m swallow:\n\u001b[1;32m--> 116\u001b[0m         \u001b[39mraise\u001b[39;00m e\n\u001b[0;32m    118\u001b[0m random_sleep_factor \u001b[39m=\u001b[39m random\u001b[39m.\u001b[39muniform(\u001b[39m1\u001b[39m, \u001b[39m1\u001b[39m \u001b[39m+\u001b[39m random_factor)\n\u001b[0;32m    119\u001b[0m backoff_base_secs \u001b[39m=\u001b[39m backoff_base_millis \u001b[39m/\u001b[39m \u001b[39m1000\u001b[39m\n",
      "File \u001b[1;32mc:\\Users\\HJ_Home\\AppData\\Local\\Programs\\Python\\Python310\\lib\\site-packages\\apify_client\\_utils.py:113\u001b[0m, in \u001b[0;36m_retry_with_exp_backoff\u001b[1;34m(func, max_retries, backoff_base_millis, backoff_factor, random_factor)\u001b[0m\n\u001b[0;32m    111\u001b[0m \u001b[39mfor\u001b[39;00m attempt \u001b[39min\u001b[39;00m \u001b[39mrange\u001b[39m(\u001b[39m1\u001b[39m, max_retries \u001b[39m+\u001b[39m \u001b[39m1\u001b[39m):\n\u001b[0;32m    112\u001b[0m     \u001b[39mtry\u001b[39;00m:\n\u001b[1;32m--> 113\u001b[0m         \u001b[39mreturn\u001b[39;00m func(bail, attempt)\n\u001b[0;32m    114\u001b[0m     \u001b[39mexcept\u001b[39;00m \u001b[39mException\u001b[39;00m \u001b[39mas\u001b[39;00m e:\n\u001b[0;32m    115\u001b[0m         \u001b[39mif\u001b[39;00m \u001b[39mnot\u001b[39;00m swallow:\n",
      "File \u001b[1;32mc:\\Users\\HJ_Home\\AppData\\Local\\Programs\\Python\\Python310\\lib\\site-packages\\apify_client\\_http_client.py:94\u001b[0m, in \u001b[0;36m_HTTPClient.call.<locals>._make_request\u001b[1;34m(bail, attempt)\u001b[0m\n\u001b[0;32m     92\u001b[0m     \u001b[39mraise\u001b[39;00m api_error\n\u001b[0;32m     93\u001b[0m \u001b[39melse\u001b[39;00m:\n\u001b[1;32m---> 94\u001b[0m     bail(api_error)\n",
      "File \u001b[1;32mc:\\Users\\HJ_Home\\AppData\\Local\\Programs\\Python\\Python310\\lib\\site-packages\\apify_client\\_utils.py:109\u001b[0m, in \u001b[0;36m_retry_with_exp_backoff.<locals>.bail\u001b[1;34m(exception)\u001b[0m\n\u001b[0;32m    107\u001b[0m \u001b[39mnonlocal\u001b[39;00m swallow\n\u001b[0;32m    108\u001b[0m swallow \u001b[39m=\u001b[39m \u001b[39mFalse\u001b[39;00m\n\u001b[1;32m--> 109\u001b[0m \u001b[39mraise\u001b[39;00m exception\n",
      "\u001b[1;31mApifyApiError\u001b[0m: Input is not valid: Field input.countryCode must be equal to one of the allowed values: \"\", \"us\", \"af\", \"al\", \"dz\", \"as\", \"ad\", \"ao\", \"ai\", \"aq\", \"ag\", \"ar\", \"am\", \"aw\", \"au\", \"at\", \"az\", \"bs\", \"bh\", \"bd\", \"bb\", \"by\", \"be\", \"bz\", \"bj\", \"bm\", \"bt\", \"bo\", \"ba\", \"bw\", \"bv\", \"br\", \"io\", \"bn\", \"bg\", \"bf\", \"bi\", \"kh\", \"cm\", \"ca\", \"cv\", \"ky\", \"cf\", \"td\", \"cl\", \"cn\", \"cx\", \"cc\", \"co\", \"km\", \"cg\", \"cd\", \"ck\", \"cr\", \"ci\", \"hr\", \"cu\", \"cy\", \"cz\", \"dk\", \"dj\", \"dm\", \"do\", \"ec\", \"eg\", \"sv\", \"gq\", \"er\", \"ee\", \"et\", \"fk\", \"fo\", \"fj\", \"fi\", \"fr\", \"gf\", \"pf\", \"tf\", \"ga\", \"gm\", \"ge\", \"de\", \"gh\", \"gi\", \"gr\", \"gl\", \"gd\", \"gp\", \"gu\", \"gt\", \"gn\", \"gw\", \"gy\", \"ht\", \"hm\", \"va\", \"hn\", \"hk\", \"hu\", \"is\", \"in\", \"id\", \"ir\", \"iq\", \"ie\", \"il\", \"it\", \"jm\", \"jp\", \"jo\", \"kz\", \"ke\", \"ki\", \"kp\", \"kr\", \"kw\", \"kg\", \"la\", \"lv\", \"lb\", \"ls\", \"lr\", \"ly\", \"li\", \"lt\", \"lu\", \"mo\", \"mk\", \"mg\", \"mw\", \"my\", \"mv\", \"ml\", \"mt\", \"mh\", \"mq\", \"mr\", \"mu\", \"yt\", \"mx\", \"fm\", \"md\", \"mc\", \"mn\", \"me\", \"ms\", \"ma\", \"mz\", \"mm\", \"na\", \"nr\", \"np\", \"nl\", \"an\", \"nc\", \"nz\", \"ni\", \"ne\", \"ng\", \"nu\", \"nf\", \"mp\", \"no\", \"om\", \"pk\", \"pw\", \"ps\", \"pa\", \"pg\", \"py\", \"pe\", \"ph\", \"pn\", \"pl\", \"pt\", \"pr\", \"qa\", \"re\", \"ro\", \"ru\", \"rw\", \"sh\", \"kn\", \"lc\", \"pm\", \"vc\", \"ws\", \"sm\", \"st\", \"sa\", \"sn\", \"rs\", \"sc\", \"sl\", \"sg\", \"sk\", \"si\", \"sb\", \"so\", \"za\", \"gs\", \"es\", \"lk\", \"sd\", \"sr\", \"sj\", \"sz\", \"se\", \"ch\", \"sy\", \"tw\", \"tj\", \"tz\", \"th\", \"tl\", \"tg\", \"tk\", \"to\", \"tt\", \"tn\", \"tr\", \"tm\", \"tc\", \"tv\", \"ug\", \"ua\", \"ae\", \"gb\", \"um\", \"uy\", \"uz\", \"vu\", \"ve\", \"vn\", \"vg\", \"vi\", \"wf\", \"eh\", \"ye\", \"zm\", \"zw\""
     ]
    }
   ],
   "source": [
    "load_dotenv()\n",
    "client = ApifyClient(os.environ.get(\"API_TOKEN\"))\n",
    "\n",
    "country_code = \"bs\"\n",
    "address = \"BAHAMAS FINANCIAL CENTRE, P.O. BOX N-3023, NASSAU, BAHAMAS\"\n",
    "\n",
    "run_input = {\n",
    "    \"searchStringsArray\": [address],\n",
    "    \"countryCode\": country_code.lower,\n",
    "    \"language\": \"en\",\n",
    "    \"maxCrawledPlacesPerSearch\": 1,\n",
    "    \"maxImages\": 1,\n",
    "    \"maxReviews\": 0,\n",
    "    \"proxyConfig\": { \"useApifyProxy\": True },\n",
    "    \"allPlacesNoSearchAction\": \"\",\n",
    "}\n",
    "\n",
    "run = client.actor(\"compass/crawler-google-places\").call(run_input=run_input)\n",
    "\n",
    "\n",
    "# Run the actor and wait for it to finish\n",
    "run = client.actor(\"compass/crawler-google-places\").call(run_input=run_input)\n",
    "\n",
    "# Fetch and print actor results from the run's dataset (if there are any)\n",
    "for item in client.dataset(run[\"defaultDatasetId\"]).iterate_items():\n",
    "    print(item)"
   ]
  }
 ],
 "metadata": {
  "kernelspec": {
   "display_name": "Python 3",
   "language": "python",
   "name": "python3"
  },
  "language_info": {
   "codemirror_mode": {
    "name": "ipython",
    "version": 3
   },
   "file_extension": ".py",
   "mimetype": "text/x-python",
   "name": "python",
   "nbconvert_exporter": "python",
   "pygments_lexer": "ipython3",
   "version": "3.10.1 (tags/v3.10.1:2cd268a, Dec  6 2021, 19:10:37) [MSC v.1929 64 bit (AMD64)]"
  },
  "orig_nbformat": 4,
  "vscode": {
   "interpreter": {
    "hash": "1a0e9f04eff34b4cb526173a937a208a889197750a3639f9f09b79fe9720f734"
   }
  }
 },
 "nbformat": 4,
 "nbformat_minor": 2
}
